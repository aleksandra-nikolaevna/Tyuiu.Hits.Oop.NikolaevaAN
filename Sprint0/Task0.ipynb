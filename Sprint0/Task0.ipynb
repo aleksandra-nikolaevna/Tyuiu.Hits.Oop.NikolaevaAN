{
 "cells": [
  {
   "cell_type": "code",
   "execution_count": 6,
   "metadata": {
    "dotnet_interactive": {
     "language": "csharp"
    },
    "polyglot_notebook": {
     "kernelName": "csharp"
    },
    "vscode": {
     "languageId": "polyglot-notebook"
    }
   },
   "outputs": [
    {
     "name": "stdout",
     "output_type": "stream",
     "text": [
      "Минимальное значение: 1\n",
      "Максимальное значение: 9\n"
     ]
    }
   ],
   "source": [
    "int[] numbers = new int[] { 5, 8, 1, 3, 9, 6, 7, 2 };\n",
    "int minValue = numbers.Min();\n",
    "Console.WriteLine($\"Минимальное значение: {minValue}\");\n",
    "int maxValue = numbers.Max();\n",
    "Console.WriteLine($\"Максимальное значение: {maxValue}\");"
   ]
  },
  {
   "cell_type": "code",
   "execution_count": 7,
   "metadata": {
    "dotnet_interactive": {
     "language": "csharp"
    },
    "polyglot_notebook": {
     "kernelName": "csharp"
    },
    "vscode": {
     "languageId": "polyglot-notebook"
    }
   },
   "outputs": [
    {
     "name": "stdout",
     "output_type": "stream",
     "text": [
      "Сумма всех элементов: 41\r\n"
     ]
    }
   ],
   "source": [
    "int sum = numbers.Sum();\n",
    "Console.WriteLine($\"Сумма всех элементов: {sum}\");"
   ]
  },
  {
   "cell_type": "code",
   "execution_count": 10,
   "metadata": {
    "vscode": {
     "languageId": "polyglot-notebook"
    }
   },
   "outputs": [
    {
     "name": "stdout",
     "output_type": "stream",
     "text": [
      "Среднее арифметическое: 5.125\r\n"
     ]
    }
   ],
   "source": [
    "int count = numbers.Length;\n",
    "double average = (double)sum / count;\n",
    "Console.WriteLine($\"Среднее арифметическое: {average}\");"
   ]
  },
  {
   "cell_type": "code",
   "execution_count": 11,
   "metadata": {
    "vscode": {
     "languageId": "polyglot-notebook"
    }
   },
   "outputs": [
    {
     "name": "stdout",
     "output_type": "stream",
     "text": [
      "1 2 3 5 6 7 8 9 \n"
     ]
    }
   ],
   "source": [
    "Array.Sort(numbers);\n",
    "foreach (int number in numbers)\n",
    "{\n",
    "    Console.Write(number + \" \");\n",
    "}\n",
    "Console.WriteLine();"
   ]
  },
  {
   "cell_type": "code",
   "execution_count": 14,
   "metadata": {
    "vscode": {
     "languageId": "polyglot-notebook"
    }
   },
   "outputs": [
    {
     "name": "stdout",
     "output_type": "stream",
     "text": [
      "Массив содержит число 1.\r\n"
     ]
    }
   ],
   "source": [
    "bool containsNumber = false;\n",
    "foreach (int i in numbers)\n",
    "{\n",
    "    if (i == 1)\n",
    "    {\n",
    "        containsNumber = true;\n",
    "        break;\n",
    "    }\n",
    "}\n",
    "if (containsNumber)\n",
    "{\n",
    "    Console.WriteLine(\"Массив содержит число 1.\");\n",
    "}\n",
    "else\n",
    "{\n",
    "    Console.WriteLine(\"Массив не содержит число 1.\");\n",
    "}"
   ]
  }
 ],
 "metadata": {
  "kernelspec": {
   "display_name": ".NET (C#)",
   "language": "C#",
   "name": ".net-csharp"
  },
  "language_info": {
   "name": "csharp"
  },
  "polyglot_notebook": {
   "kernelInfo": {
    "defaultKernelName": "csharp",
    "items": [
     {
      "aliases": [],
      "name": "csharp"
     }
    ]
   }
  }
 },
 "nbformat": 4,
 "nbformat_minor": 2
}
