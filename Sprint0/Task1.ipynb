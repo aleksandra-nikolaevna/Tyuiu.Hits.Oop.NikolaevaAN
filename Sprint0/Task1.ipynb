{
 "cells": [
  {
   "cell_type": "code",
   "execution_count": 26,
   "metadata": {
    "vscode": {
     "languageId": "polyglot-notebook"
    }
   },
   "outputs": [],
   "source": [
    "//1. Классы и Объекты\n",
    "class Animal\n",
    "{\n",
    "\n",
    "}\n",
    "\n",
    "// Основная программа\n",
    "Animal Dog = new Animal(); // Создание объекта"
   ]
  },
  {
   "cell_type": "code",
   "execution_count": 25,
   "metadata": {
    "dotnet_interactive": {
     "language": "csharp"
    },
    "polyglot_notebook": {
     "kernelName": "csharp"
    },
    "vscode": {
     "languageId": "polyglot-notebook"
    }
   },
   "outputs": [
    {
     "name": "stdout",
     "output_type": "stream",
     "text": [
      "Рассмотреть животное...\n",
      "Большая\n"
     ]
    }
   ],
   "source": [
    "//2. Инкапсуляция\n",
    "class Animal\n",
    "{\n",
    "    private string size;\n",
    "    public string Size\n",
    "    {\n",
    "        get { return size; }\n",
    "        set { size = value; }\n",
    "    }\n",
    "\n",
    "    public void AnimalLook()\n",
    "    {\n",
    "        Console.WriteLine(\"Рассмотреть животное...\");\n",
    "    }\n",
    "}\n",
    "\n",
    "// Основная программа\n",
    "Animal Dog = new Animal(); // Создание объекта\n",
    "Dog.Size = \"Большая\";\n",
    "Dog.AnimalLook();\n",
    "Console.WriteLine(Dog.Size);"
   ]
  },
  {
   "cell_type": "code",
   "execution_count": 24,
   "metadata": {
    "vscode": {
     "languageId": "polyglot-notebook"
    }
   },
   "outputs": [
    {
     "name": "stdout",
     "output_type": "stream",
     "text": [
      "Маленькая\n",
      "Следующее...\n",
      "Большая\n",
      "Следующее...\n"
     ]
    }
   ],
   "source": [
    "//3. Наследование\n",
    "class Animal\n",
    "{\n",
    "    private string size;\n",
    "    public string Size\n",
    "    {\n",
    "        get { return size; }\n",
    "        set { size = value; }\n",
    "    }\n",
    "    public void Next()\n",
    "    {\n",
    "        Console.WriteLine(\"Следующее...\");\n",
    "    }\n",
    "}\n",
    "\n",
    "class Cat : Animal\n",
    "{\n",
    "\n",
    "}\n",
    "\n",
    "Animal myAnimal = new Animal(); // Создание объекта myAnimal\n",
    "Cat myCat = new Cat(); // Создание объекта myCat\n",
    "\n",
    "myCat.Size = \"Маленькая\";\n",
    "Console.WriteLine(myCat.Size);\n",
    "myCat.Next();\n",
    "\n",
    "myAnimal.Size = \"Большая\";\n",
    "Console.WriteLine(myAnimal.Size);\n",
    "myAnimal.Next();"
   ]
  },
  {
   "cell_type": "code",
   "execution_count": 21,
   "metadata": {
    "vscode": {
     "languageId": "polyglot-notebook"
    }
   },
   "outputs": [
    {
     "name": "stdout",
     "output_type": "stream",
     "text": [
      "Животное идет\n",
      "Рыба плывет\n"
     ]
    }
   ],
   "source": [
    "//4. Полиморфизм\n",
    "class Animal\n",
    "{\n",
    "    public virtual void Move()\n",
    "    {\n",
    "        Console.WriteLine(\"Животное идет\");\n",
    "    }\n",
    "}\n",
    "\n",
    "class Fish : Animal\n",
    "{\n",
    "    public override void Move()\n",
    "    {\n",
    "        //base.Move(); // Вызов метода базового класса\n",
    "        Console.WriteLine(\"Рыба плывет\");\n",
    "    }\n",
    "}\n",
    "\n",
    "Animal myAnimal = new Animal(); // Создание объекта myAnimal\n",
    "Fish myFish = new Fish(); // Создание объекта myFish\n",
    "\n",
    "\n",
    "myAnimal.Move();\n",
    "myFish.Move();"
   ]
  },
  {
   "cell_type": "code",
   "execution_count": 20,
   "metadata": {
    "vscode": {
     "languageId": "polyglot-notebook"
    }
   },
   "outputs": [
    {
     "name": "stdout",
     "output_type": "stream",
     "text": [
      "Пингвин не умеет летать\n",
      "Почти все птицы умеют летать\n"
     ]
    }
   ],
   "source": [
    "//5. Абстракция\n",
    "abstract class Bird\n",
    "{\n",
    "    public abstract void CantFly();\n",
    "\n",
    "    public void Fly()\n",
    "    {\n",
    "        Console.WriteLine(\"Почти все птицы умеют летать\");\n",
    "    }\n",
    "}\n",
    "\n",
    "class Penguin : Bird\n",
    "{\n",
    "    public override void CantFly()\n",
    "    {\n",
    "        Console.WriteLine(\"Пингвин не умеет летать\");\n",
    "    }\n",
    "}\n",
    "\n",
    "Penguin myPenguin = new Penguin(); // Создание объекта myPenguin\n",
    "\n",
    "myPenguin.CantFly();\n",
    "myPenguin.Fly();"
   ]
  },
  {
   "cell_type": "code",
   "execution_count": 28,
   "metadata": {
    "vscode": {
     "languageId": "polyglot-notebook"
    }
   },
   "outputs": [
    {
     "name": "stdout",
     "output_type": "stream",
     "text": [
      "Пасть открылась\n",
      "Собака лает\n",
      "Пасть закрылась\n"
     ]
    }
   ],
   "source": [
    "//6. Композиция\n",
    "using System;\n",
    "\n",
    "public class Mouth\n",
    "{\n",
    "    public void Open() => Console.WriteLine(\"Пасть открылась\");\n",
    "    public void Close() => Console.WriteLine(\"Пасть закрылась\");\n",
    "}\n",
    "\n",
    "public class Dog\n",
    "{\n",
    "    private Mouth mouth;\n",
    "\n",
    "    public Dog(Mouth mouth)\n",
    "    {\n",
    "        this.mouth = mouth;\n",
    "    }\n",
    "\n",
    "    public void Bark()\n",
    "    {\n",
    "        mouth.Open();\n",
    "\n",
    "        // Дополнительная логика для лая собаки\n",
    "        Console.WriteLine(\"Собака лает\");\n",
    "\n",
    "        mouth.Close();\n",
    "    }\n",
    "}\n",
    "\n",
    "Mouth myMouth = new Mouth(); // Создание объекта myMouth\n",
    "Dog myDog = new Dog(myMouth); // Создание объекта myDog\n",
    "\n",
    "myDog.Bark(); // Собака лает, используя пасть"
   ]
  },
  {
   "cell_type": "code",
   "execution_count": 32,
   "metadata": {
    "vscode": {
     "languageId": "polyglot-notebook"
    }
   },
   "outputs": [
    {
     "name": "stdout",
     "output_type": "stream",
     "text": [
      "Лошадь идет...\n",
      "Саша оседлал(а) лошадь...\n",
      "Лошадь идет...\n"
     ]
    }
   ],
   "source": [
    "//7. Агрегация\n",
    "using System;\n",
    "\n",
    "abstract class Animal\n",
    "{\n",
    "    public abstract void Ride();\n",
    "}\n",
    "\n",
    "class Horse : Animal\n",
    "{\n",
    "    private Rider rider;\n",
    "\n",
    "    public Horse(Rider rider)\n",
    "    {\n",
    "        this.rider = rider;\n",
    "    }\n",
    "\n",
    "    public override void Ride()\n",
    "    {\n",
    "        Console.WriteLine(\"Лошадь идет...\");\n",
    "    }\n",
    "}\n",
    "\n",
    "class Rider\n",
    "{\n",
    "    public string Name { get; set; }\n",
    "\n",
    "    public Rider(string name)\n",
    "    {\n",
    "        Name = name;\n",
    "    }\n",
    "\n",
    "    public void Ride(Animal animal)\n",
    "    {\n",
    "        Console.WriteLine($\"{Name} оседлал(а) лошадь...\");\n",
    "        animal.Ride();\n",
    "    }\n",
    "}\n",
    "\n",
    "    Rider Sasha = new Rider(\"Саша\");\n",
    "    Horse myHorse = new Horse(Sasha); // Создаем лошадь с наездником\n",
    "\n",
    "    myHorse.Ride(); // Лошадь начинает движение\n",
    "    Sasha.Ride(myHorse); // Наездник также может начать движение, используя лошадь"
   ]
  }
 ],
 "metadata": {
  "kernelspec": {
   "display_name": ".NET (C#)",
   "language": "C#",
   "name": ".net-csharp"
  },
  "language_info": {
   "name": "csharp"
  },
  "polyglot_notebook": {
   "kernelInfo": {
    "defaultKernelName": "csharp",
    "items": [
     {
      "aliases": [],
      "name": "csharp"
     }
    ]
   }
  }
 },
 "nbformat": 4,
 "nbformat_minor": 2
}
