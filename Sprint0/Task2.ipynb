{
 "cells": [
  {
   "cell_type": "code",
   "execution_count": 14,
   "metadata": {
    "dotnet_interactive": {
     "language": "csharp"
    },
    "polyglot_notebook": {
     "kernelName": "csharp"
    },
    "vscode": {
     "languageId": "polyglot-notebook"
    }
   },
   "outputs": [],
   "source": [
    "// 1. Single Responsibility Principle - Принцип единственной обязанности\n",
    "public interface IQuacking\n",
    "{\n",
    "    void Quack();\n",
    "}\n",
    "\n",
    "public class Duck : Animal, IQuacking\n",
    "{\n",
    "    public void Quack() \n",
    "    {\n",
    "        Console.WriteLine(\"Утка крякает...\");\n",
    "    }\n",
    "}"
   ]
  },
  {
   "cell_type": "code",
   "execution_count": 13,
   "metadata": {
    "dotnet_interactive": {
     "language": "csharp"
    },
    "polyglot_notebook": {
     "kernelName": "csharp"
    },
    "vscode": {
     "languageId": "polyglot-notebook"
    }
   },
   "outputs": [],
   "source": [
    "// 2. Open/Closed Principle - Принцип открытости/закрытости\n",
    "public interface ISounding\n",
    "{\n",
    "    void Sound();\n",
    "}\n",
    "\n",
    "public class Animal : ISounding\n",
    "{\n",
    "    public void Sound() \n",
    "    {\n",
    "        Console.WriteLine(\"Животные издают звуки...\");\n",
    "    }\n",
    "}\n",
    "\n",
    "public class Duck : ISounding\n",
    "{\n",
    "    public void Sound() \n",
    "    {\n",
    "        Console.WriteLine(\"Утка издает звуки...\");\n",
    "    }\n",
    "\n",
    "    public void Quack() \n",
    "    {\n",
    "        Console.WriteLine(\"Утка крякает...\");\n",
    "    }\n",
    "}"
   ]
  },
  {
   "cell_type": "code",
   "execution_count": 15,
   "metadata": {
    "vscode": {
     "languageId": "polyglot-notebook"
    }
   },
   "outputs": [],
   "source": [
    "// 3. Liskov Substitution Principle - Принцип подстановки Лисков\n",
    "public interface ISeaBird\n",
    "{\n",
    "    void Swim();\n",
    "}\n",
    "\n",
    "public interface ILandBird\n",
    "{\n",
    "    void Run();\n",
    "}\n",
    "\n",
    "public class Duck : ISeaBird\n",
    "{\n",
    "    public void Swim() \n",
    "    {\n",
    "        Console.WriteLine(\"Утка плавает...\");\n",
    "    }\n",
    "\n",
    "    public void Quack() \n",
    "    {\n",
    "        Console.WriteLine(\"Утка крякает...\");\n",
    "    }\n",
    "}\n",
    "\n",
    "public class Ostrich : ILandBird\n",
    "{\n",
    "    public void Run() \n",
    "    {\n",
    "        Console.WriteLine(\"Страус бегает...\");\n",
    "    }\n",
    "}"
   ]
  },
  {
   "cell_type": "code",
   "execution_count": 17,
   "metadata": {
    "vscode": {
     "languageId": "polyglot-notebook"
    }
   },
   "outputs": [],
   "source": [
    "// 4. Interface Segregation Principle - Принцип разделения интерфейсов\n",
    "public interface IAnimal\n",
    "{\n",
    "    void Sound();\n",
    "}\n",
    "\n",
    "public interface ICanQuack\n",
    "{\n",
    "    void Quack();\n",
    "}\n",
    "\n",
    "public interface IBirdCanRun\n",
    "{\n",
    "    void Run();\n",
    "}\n",
    "\n",
    "public interface ICanFly\n",
    "{\n",
    "    void Fly();\n",
    "}\n",
    "\n",
    "public class Duck : IAnimal, ICanQuack\n",
    "{\n",
    "    public void Sound() \n",
    "    {\n",
    "        Console.WriteLine(\"Утка издает звуки...\");\n",
    "    }\n",
    "\n",
    "    public void Quack() \n",
    "    {\n",
    "        Console.WriteLine(\"Утка крякает...\");\n",
    "    }\n",
    "}\n",
    "\n",
    "public class Ostrich : IAnimal, IBirdCanRun\n",
    "{\n",
    "    public void Sound() \n",
    "    {\n",
    "        Console.WriteLine(\"Страус издает звуки...\");\n",
    "    }\n",
    "\n",
    "    public void Run() \n",
    "    {\n",
    "        Console.WriteLine(\"Страус бегает...\");\n",
    "    }\n",
    "}"
   ]
  },
  {
   "cell_type": "code",
   "execution_count": 19,
   "metadata": {
    "vscode": {
     "languageId": "polyglot-notebook"
    }
   },
   "outputs": [],
   "source": [
    "// 5. Dependency Inversion Principle - Принцип инверсии зависимостей\n",
    "// Абстракция для мамы утки\n",
    "public interface IMotherDuck\n",
    "{\n",
    "    void Swim();\n",
    "}\n",
    "\n",
    "// Конкретная реализация мамы утки\n",
    "public class Duck : IMotherDuck\n",
    "{\n",
    "    public void Swim()\n",
    "    {\n",
    "        Console.WriteLine(\"Утка поплыла по реке...\");\n",
    "    }\n",
    "}\n",
    "\n",
    "// Класс Ducklings теперь зависит от абстракции IMotherDuck\n",
    "public class Ducklings\n",
    "{\n",
    "    private IMotherDuck _duck;\n",
    "\n",
    "    // Зависимость внедряется через конструктор\n",
    "    public Ducklings(IMotherDuck duck)\n",
    "    {\n",
    "        _duck = duck;\n",
    "    }\n",
    "\n",
    "    public void SwimTogether()\n",
    "    {\n",
    "        _duck.Swim();\n",
    "    }\n",
    "}"
   ]
  }
 ],
 "metadata": {
  "kernelspec": {
   "display_name": ".NET (C#)",
   "language": "C#",
   "name": ".net-csharp"
  },
  "language_info": {
   "name": "csharp"
  },
  "polyglot_notebook": {
   "kernelInfo": {
    "defaultKernelName": "csharp",
    "items": [
     {
      "aliases": [],
      "name": "csharp"
     }
    ]
   }
  }
 },
 "nbformat": 4,
 "nbformat_minor": 2
}
