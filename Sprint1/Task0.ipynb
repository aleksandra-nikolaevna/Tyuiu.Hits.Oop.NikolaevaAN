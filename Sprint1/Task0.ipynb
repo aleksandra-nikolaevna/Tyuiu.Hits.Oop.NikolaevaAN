{
 "cells": [
  {
   "cell_type": "code",
   "execution_count": null,
   "metadata": {},
   "outputs": [],
   "source": [
    "public interface IColor\n",
    "{\n",
    "    void Color(string color);\n",
    "}\n",
    "public class Animal\n",
    "{\n",
    "    // Атрибуты класса\n",
    "    public int Height { get; set; } \n",
    "    private int Weight { get; set; } \n",
    "    protected int Satiety { get; set; } \n",
    "    internal string Inhabit { get; set; } \n",
    "\n",
    "    public void Refuel(string inhabit) \n",
    "    {\n",
    "        Inhabit = inhabit;\n",
    "    }\n",
    "\n",
    "    // Метод класса\n",
    "    public void BodyData(int height, int weight) \n",
    "    {\n",
    "        Height += height;\n",
    "        Weight += weight;\n",
    "    }\n",
    "\n",
    "    public static int Age { get; private set; } \n",
    "\n",
    "    // Конструктор класса\n",
    "    public Animal(int age) \n",
    "    {\n",
    "        Age = age;\n",
    "    }\n",
    "}\n",
    "public class Elephant : Animal\n",
    "{\n",
    "    public void EatFood()\n",
    "    {\n",
    "        Satiety++;\n",
    "    }\n",
    "}\n",
    "public class Pig : Animal, IColor\n",
    "{\n",
    "    // Реализация интерфейса IColor\n",
    "}"
   ]
  }
 ],
 "metadata": {
  "language_info": {
   "name": "csharp"
  }
 },
 "nbformat": 4,
 "nbformat_minor": 2
}
