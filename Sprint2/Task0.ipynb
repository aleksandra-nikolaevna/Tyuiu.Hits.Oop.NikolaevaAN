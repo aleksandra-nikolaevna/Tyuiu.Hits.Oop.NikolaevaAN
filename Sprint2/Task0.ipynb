{
 "cells": [
  {
   "cell_type": "code",
   "execution_count": 6,
   "metadata": {
    "dotnet_interactive": {
     "language": "csharp"
    },
    "polyglot_notebook": {
     "kernelName": "csharp"
    },
    "vscode": {
     "languageId": "polyglot-notebook"
    }
   },
   "outputs": [
    {
     "name": "stdout",
     "output_type": "stream",
     "text": [
      "Собака:\n",
      "Класс: Млекопитающее, Рост: 50 см\n",
      "Лапы: 4\n",
      "Орёл:\n",
      "Класс: Птица, Рост: 80 см\n",
      "Способ питания: хищник\n",
      "Акула:\n",
      "Класс: Хрящевая рыба, Рост: 300 см\n",
      "Средняя скорость: 8 км/ч\n"
     ]
    }
   ],
   "source": [
    "public class Animal\n",
    "{\n",
    "    // Свойство для хранения класса животного\n",
    "    public string AnimalClass { get; set; }\n",
    "\n",
    "    // Свойство для хранения роста животного\n",
    "    public int Height { get; set; }\n",
    "\n",
    "    // Конструктор класса Animal\n",
    "    public Animal(string animalClass, int height)\n",
    "    {\n",
    "        AnimalClass = animalClass;\n",
    "        Height = height;\n",
    "    }\n",
    "\n",
    "    // Метод для отображения информации о животном\n",
    "    public virtual void DisplayInfo()\n",
    "    {\n",
    "        Console.WriteLine($\"Класс: {AnimalClass}, Рост: {Height} см\");\n",
    "    }\n",
    "}\n",
    "\n",
    "public class Dog : Animal\n",
    "{\n",
    "    // Свойство для хранения количества лап\n",
    "    public int Legs { get; set; }\n",
    "\n",
    "    // Конструктор класса Dog\n",
    "    public Dog(string animalClass, int height, int legs) : base(animalClass, height)\n",
    "    {\n",
    "        Legs = legs;\n",
    "    }\n",
    "\n",
    "    // Переопределенный метод DisplayInfo для отображения информации о собаке\n",
    "    public override void DisplayInfo()\n",
    "    {\n",
    "        base.DisplayInfo();\n",
    "        Console.WriteLine($\"Лапы: {Legs}\");\n",
    "    }\n",
    "}\n",
    "\n",
    "public class Eagle : Animal\n",
    "{\n",
    "    // Свойство для хранения способа питания\n",
    "    public string FoodType { get; set; }\n",
    "\n",
    "    // Конструктор класса Eagle\n",
    "    public Eagle(string animalClass, int height, string foodType) : base(animalClass, height)\n",
    "    {\n",
    "        FoodType = foodType;\n",
    "    }\n",
    "\n",
    "    // Переопределенный метод DisplayInfo для отображения информации об орле\n",
    "    public override void DisplayInfo()\n",
    "    {\n",
    "        base.DisplayInfo();\n",
    "        Console.WriteLine($\"Способ питания: {FoodType}\");\n",
    "    }\n",
    "}\n",
    "\n",
    "public class Shark : Animal\n",
    "{\n",
    "    // Свойство для хранения средней скорости\n",
    "    public int Speed { get; set; }\n",
    "\n",
    "    // Конструктор класса Shark\n",
    "    public Shark(string animalClass, int height, int speed) : base(animalClass, height)\n",
    "    {\n",
    "        Speed = speed;\n",
    "    }\n",
    "\n",
    "    // Переопределенный метод DisplayInfo для отображения информации об акуле\n",
    "    public override void DisplayInfo()\n",
    "    {\n",
    "        base.DisplayInfo();\n",
    "        Console.WriteLine($\"Средняя скорость: {Speed} км/ч\");\n",
    "    }\n",
    "}\n",
    "\n",
    "// Создаем объект класса Dog\n",
    "Console.WriteLine(\"Собака:\");\n",
    "Dog myDog = new Dog(\"Млекопитающее\", 50, 4);\n",
    "myDog.DisplayInfo(); // Выводит информацию о собаке\n",
    "\n",
    "// Создаем объект класса Eagle\n",
    "Console.WriteLine(\"Орёл:\");\n",
    "Eagle myEagle = new Eagle(\"Птица\", 80, \"хищник\");\n",
    "myEagle.DisplayInfo(); // Выводит информацию об орле\n",
    "\n",
    "// Создаем объект класса Shark\n",
    "Console.WriteLine(\"Акула:\");\n",
    "Shark myShark = new Shark(\"Хрящевая рыба\", 300, 8);\n",
    "myShark.DisplayInfo(); // Выводит информацию об акуле"
   ]
  }
 ],
 "metadata": {
  "kernelspec": {
   "display_name": ".NET (C#)",
   "language": "C#",
   "name": ".net-csharp"
  },
  "language_info": {
   "name": "csharp"
  },
  "polyglot_notebook": {
   "kernelInfo": {
    "defaultKernelName": "csharp",
    "items": [
     {
      "aliases": [],
      "name": "csharp"
     }
    ]
   }
  }
 },
 "nbformat": 4,
 "nbformat_minor": 2
}
