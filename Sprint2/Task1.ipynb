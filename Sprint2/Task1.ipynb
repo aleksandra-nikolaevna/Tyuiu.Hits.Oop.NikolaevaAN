{
 "cells": [
  {
   "cell_type": "code",
   "execution_count": 3,
   "metadata": {
    "dotnet_interactive": {
     "language": "csharp"
    },
    "polyglot_notebook": {
     "kernelName": "csharp"
    },
    "vscode": {
     "languageId": "polyglot-notebook"
    }
   },
   "outputs": [
    {
     "name": "stdout",
     "output_type": "stream",
     "text": [
      "Собака:\n",
      "Класс: Млекопитающее, Рост: 50 см\n",
      "Лапы: 4\n",
      "Самоед:\n",
      "Класс: Млекопитающее, Рост: 50 см\n",
      "Лапы: 4\n",
      "Окрас: белый\n",
      "Орёл:\n",
      "Класс: Птица, Рост: 80 см\n",
      "Способ питания: хищник\n"
     ]
    }
   ],
   "source": [
    "public class Animal\n",
    "{\n",
    "    public string AnimalClass { get; set; }\n",
    "    public int Height { get; set; }\n",
    "\n",
    "    public Animal(string animalClass, int height)\n",
    "    {\n",
    "        AnimalClass = animalClass;\n",
    "        Height = height;\n",
    "    }\n",
    "\n",
    "    public virtual void DisplayInfo()\n",
    "    {\n",
    "        Console.WriteLine($\"Класс: {AnimalClass}, Рост: {Height} см\");\n",
    "    }\n",
    "}\n",
    "\n",
    "public class Dog : Animal\n",
    "{\n",
    "    public int Legs { get; set; }\n",
    "\n",
    "    public Dog(string animalClass, int height, int legs) : base(animalClass, height)\n",
    "    {\n",
    "        Legs = legs;\n",
    "    }\n",
    "\n",
    "    public override void DisplayInfo()\n",
    "    {\n",
    "        base.DisplayInfo();\n",
    "        Console.WriteLine($\"Лапы: {Legs}\");\n",
    "    }\n",
    "}\n",
    "\n",
    "public class Samoyed : Dog\n",
    "{\n",
    "    public string Color { get; set; }\n",
    "\n",
    "    public Samoyed(string animalClass, int height, int legs, string color) \n",
    "        : base(animalClass, height, legs)\n",
    "    {\n",
    "        Color = color;\n",
    "    }\n",
    "\n",
    "    public override void DisplayInfo()\n",
    "    {\n",
    "        base.DisplayInfo();\n",
    "        Console.WriteLine($\"Окрас: {Color}\");\n",
    "    }\n",
    "}\n",
    "\n",
    "public class Eagle : Animal\n",
    "{\n",
    "    public string FoodType { get; set; }\n",
    "\n",
    "    public Eagle(string animalClass, int height, string foodType) : base(animalClass, height)\n",
    "    {\n",
    "        FoodType = foodType;\n",
    "    }\n",
    "\n",
    "    public override void DisplayInfo()\n",
    "    {\n",
    "        base.DisplayInfo();\n",
    "        Console.WriteLine($\"Способ питания: {FoodType}\");\n",
    "    }\n",
    "}\n",
    "\n",
    "Console.WriteLine(\"Собака:\");\n",
    "Dog myDog = new Dog(\"Млекопитающее\", 50, 4);\n",
    "myDog.DisplayInfo();\n",
    "\n",
    "Console.WriteLine(\"Самоед:\");\n",
    "Samoyed mySamoyed = new Samoyed(\"Млекопитающее\", 50, 4, \"белый\");\n",
    "mySamoyed.DisplayInfo();\n",
    "\n",
    "Console.WriteLine(\"Орёл:\");\n",
    "Eagle myEagle = new Eagle(\"Птица\", 80, \"хищник\");\n",
    "myEagle.DisplayInfo();"
   ]
  }
 ],
 "metadata": {
  "kernelspec": {
   "display_name": ".NET (C#)",
   "language": "C#",
   "name": ".net-csharp"
  },
  "language_info": {
   "name": "csharp"
  },
  "polyglot_notebook": {
   "kernelInfo": {
    "defaultKernelName": "csharp",
    "items": [
     {
      "aliases": [],
      "name": "csharp"
     }
    ]
   }
  }
 },
 "nbformat": 4,
 "nbformat_minor": 2
}
