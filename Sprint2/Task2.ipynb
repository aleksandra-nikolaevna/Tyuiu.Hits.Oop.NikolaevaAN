{
 "cells": [
  {
   "cell_type": "code",
   "execution_count": 3,
   "metadata": {
    "dotnet_interactive": {
     "language": "csharp"
    },
    "polyglot_notebook": {
     "kernelName": "csharp"
    },
    "vscode": {
     "languageId": "polyglot-notebook"
    }
   },
   "outputs": [
    {
     "name": "stdout",
     "output_type": "stream",
     "text": [
      "Собака: Класс: Млекопитающее, Рост: 50 см, Ноги: 4\n",
      "Орёл: Класс: Птица, Рост: 80 см, Способ питания: хищник\n",
      "Акула: Класс: Хрящевая рыба, Рост: 300 см, Средняя скорость: 8 км/ч\n"
     ]
    }
   ],
   "source": [
    "public interface IAnimal\n",
    "{\n",
    "    string AnimalClass { get; set; }\n",
    "    int Height { get; set; }\n",
    "    void DisplayInfo();\n",
    "}\n",
    "\n",
    "public interface IEagle\n",
    "{\n",
    "    string FoodType { get; set; }\n",
    "}\n",
    "\n",
    "public interface IShark\n",
    "{\n",
    "    int Speed { get; set; }\n",
    "}\n",
    "\n",
    "public class Dog : IAnimal\n",
    "{\n",
    "    public string AnimalClass { get; set; }\n",
    "    public int Height { get; set; }\n",
    "    public int Legs { get; set; }\n",
    "\n",
    "    public Dog(string animalClass, int height, int legs)\n",
    "    {\n",
    "        AnimalClass = animalClass;\n",
    "        Height = height;\n",
    "        Legs = legs;\n",
    "    }\n",
    "\n",
    "    public void DisplayInfo()\n",
    "    {\n",
    "        Console.WriteLine($\"Собака: Класс: {AnimalClass}, Рост: {Height} см, Ноги: {Legs}\");\n",
    "    }\n",
    "}\n",
    "\n",
    "public class Eagle : IAnimal, IEagle\n",
    "{\n",
    "    public string AnimalClass { get; set; }\n",
    "    public int Height { get; set; }\n",
    "    public string FoodType { get; set; }\n",
    "\n",
    "    public Eagle(string animalClass, int height, string foodType)\n",
    "    {\n",
    "        AnimalClass = animalClass;\n",
    "        Height = height;\n",
    "        FoodType = foodType;\n",
    "    }\n",
    "\n",
    "    public void DisplayInfo()\n",
    "    {\n",
    "        Console.WriteLine($\"Орёл: Класс: {AnimalClass}, Рост: {Height} см, Способ питания: {FoodType}\");\n",
    "    }\n",
    "}\n",
    "\n",
    "public class Shark : IAnimal, IShark\n",
    "{\n",
    "    public string AnimalClass { get; set; }\n",
    "    public int Height { get; set; }\n",
    "    public int Speed { get; set; }\n",
    "\n",
    "    public Shark(string animalClass, int height, int speed)\n",
    "    {\n",
    "        AnimalClass = animalClass;\n",
    "        Height = height;\n",
    "        Speed = speed;\n",
    "    }\n",
    "\n",
    "    public void DisplayInfo()\n",
    "    {\n",
    "        Console.WriteLine($\"Акула: Класс: {AnimalClass}, Рост: {Height} см, Средняя скорость: {Speed} км/ч\");\n",
    "    }\n",
    "}\n",
    "\n",
    "Dog myDog = new Dog(\"Млекопитающее\", 50, 4);\n",
    "myDog.DisplayInfo();\n",
    "\n",
    "Eagle myEagle = new Eagle(\"Птица\", 80, \"хищник\");\n",
    "myEagle.DisplayInfo();\n",
    "\n",
    "Shark myShark = new Shark(\"Хрящевая рыба\", 300, 8);\n",
    "myShark.DisplayInfo();"
   ]
  }
 ],
 "metadata": {
  "kernelspec": {
   "display_name": ".NET (C#)",
   "language": "C#",
   "name": ".net-csharp"
  },
  "language_info": {
   "name": "csharp"
  },
  "polyglot_notebook": {
   "kernelInfo": {
    "defaultKernelName": "csharp",
    "items": [
     {
      "aliases": [],
      "name": "csharp"
     }
    ]
   }
  }
 },
 "nbformat": 4,
 "nbformat_minor": 2
}
