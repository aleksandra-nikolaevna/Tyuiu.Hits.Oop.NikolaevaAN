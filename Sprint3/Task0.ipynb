{
 "cells": [
  {
   "cell_type": "code",
   "execution_count": 3,
   "metadata": {
    "dotnet_interactive": {
     "language": "csharp"
    },
    "polyglot_notebook": {
     "kernelName": "csharp"
    },
    "vscode": {
     "languageId": "polyglot-notebook"
    }
   },
   "outputs": [
    {
     "name": "stdout",
     "output_type": "stream",
     "text": [
      "Класс собаки: Млекопитающее\n",
      "Класс кошки: Млекопитающее\n",
      "Класс кролика: Млекопитающее\n",
      "Класс животного: Млекопитающее\n"
     ]
    }
   ],
   "source": [
    "public class Animal\n",
    "{\n",
    "    public virtual void AnimalClass(string animalClass)\n",
    "    {\n",
    "        Console.WriteLine($\"Класс животного: {animalClass}\");\n",
    "    }\n",
    "}\n",
    "\n",
    "public class Dog : Animal\n",
    "{\n",
    "    public override void AnimalClass(string animalClass)\n",
    "    {\n",
    "        Console.WriteLine($\"Класс собаки: {animalClass}\");\n",
    "    }\n",
    "}\n",
    "\n",
    "public class Cat : Animal\n",
    "{\n",
    "    public override void AnimalClass(string animalClass)\n",
    "    {\n",
    "        Console.WriteLine($\"Класс кошки: {animalClass}\");\n",
    "    }\n",
    "}\n",
    "\n",
    "public class Rabbit : Animal\n",
    "{\n",
    "    public override void AnimalClass(string animalClass)\n",
    "    {\n",
    "        Console.WriteLine($\"Класс кролика: {animalClass}\");\n",
    "    }\n",
    "}\n",
    "\n",
    "List<Animal> animals = new List<Animal>\n",
    "{\n",
    "    new Dog(),\n",
    "    new Cat(),\n",
    "    new Rabbit(),\n",
    "    new Animal() // Добавляем экземпляр базового класса для демонстрации\n",
    "};\n",
    "\n",
    "foreach (var animal in animals)\n",
    "{\n",
    "    animal.AnimalClass(\"Млекопитающее\"); // Вызываем метод AnimalClass() \n",
    "}"
   ]
  }
 ],
 "metadata": {
  "kernelspec": {
   "display_name": ".NET (C#)",
   "language": "C#",
   "name": ".net-csharp"
  },
  "language_info": {
   "name": "csharp"
  },
  "polyglot_notebook": {
   "kernelInfo": {
    "defaultKernelName": "csharp",
    "items": [
     {
      "aliases": [],
      "name": "csharp"
     }
    ]
   }
  }
 },
 "nbformat": 4,
 "nbformat_minor": 2
}
