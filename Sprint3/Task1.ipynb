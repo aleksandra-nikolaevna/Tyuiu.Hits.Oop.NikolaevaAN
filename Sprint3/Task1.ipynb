{
 "cells": [
  {
   "cell_type": "code",
   "execution_count": 5,
   "metadata": {
    "dotnet_interactive": {
     "language": "csharp"
    },
    "polyglot_notebook": {
     "kernelName": "csharp"
    },
    "vscode": {
     "languageId": "polyglot-notebook"
    }
   },
   "outputs": [
    {
     "name": "stdout",
     "output_type": "stream",
     "text": [
      "Животное бежит с максимальной скоростью 10 км/ч.\n",
      "Животное бежит направо.\n",
      "Среднее время бега: 1.5 ч.\n",
      "Собака бежит с максимальной скоростью 68 км/ч.\n",
      "Собака бежит налево.\n",
      "Среднее время бега собаки: 2.3 ч.\n",
      "Кошка бежит с максимальной скоростью 48 км/ч.\n",
      "Кошка бежит направо.\n",
      "Среднее время бега кошки: 0.8 ч.\n",
      "Кролик бежит с максимальной скоростью 50 км/ч.\n",
      "Кролик бежит прямо.\n",
      "Среднее время бега кролика: 1.4 ч.\n"
     ]
    }
   ],
   "source": [
    "public class Animal\n",
    "{\n",
    "    // int\n",
    "    public virtual void Run(int speed)\n",
    "    {\n",
    "        Console.WriteLine($\"Животное бежит с максимальной скоростью {speed} км/ч.\");\n",
    "    }\n",
    "\n",
    "    // string\n",
    "    public virtual void Run(string direction)\n",
    "    {\n",
    "        Console.WriteLine($\"Животное бежит {direction}.\");\n",
    "    }\n",
    "\n",
    "    // double\n",
    "    public virtual void Run(double time)\n",
    "    {\n",
    "        Console.WriteLine($\"Среднее время бега: {time} ч.\");\n",
    "    }\n",
    "}\n",
    "\n",
    "public class Dog : Animal\n",
    "{\n",
    "    // int\n",
    "    public override void Run(int speed)\n",
    "    {\n",
    "        Console.WriteLine($\"Собака бежит с максимальной скоростью {speed} км/ч.\");\n",
    "    }\n",
    "\n",
    "    // string\n",
    "    public override void Run(string direction)\n",
    "    {\n",
    "        Console.WriteLine($\"Собака бежит {direction}.\");\n",
    "    }\n",
    "\n",
    "    // double\n",
    "    public override void Run(double time)\n",
    "    {\n",
    "        Console.WriteLine($\"Среднее время бега собаки: {time} ч.\");\n",
    "    }\n",
    "}\n",
    "\n",
    "public class Cat : Animal\n",
    "{\n",
    "    // int\n",
    "    public override void Run(int speed)\n",
    "    {\n",
    "        Console.WriteLine($\"Кошка бежит с максимальной скоростью {speed} км/ч.\");\n",
    "    }\n",
    "\n",
    "    // string\n",
    "    public override void Run(string direction)\n",
    "    {\n",
    "        Console.WriteLine($\"Кошка бежит {direction}.\");\n",
    "    }\n",
    "\n",
    "    // double\n",
    "    public override void Run(double time)\n",
    "    {\n",
    "        Console.WriteLine($\"Среднее время бега кошки: {time} ч.\");\n",
    "    }\n",
    "}\n",
    "\n",
    "public class Rabbit : Animal\n",
    "{\n",
    "    // int\n",
    "    public override void Run(int speed)\n",
    "    {\n",
    "        Console.WriteLine($\"Кролик бежит с максимальной скоростью {speed} км/ч.\");\n",
    "    }\n",
    "\n",
    "    // string\n",
    "    public override void Run(string direction)\n",
    "    {\n",
    "        Console.WriteLine($\"Кролик бежит {direction}.\");\n",
    "    }\n",
    "\n",
    "    // double\n",
    "    public override void Run(double time)\n",
    "    {\n",
    "        Console.WriteLine($\"Среднее время бега кролика: {time} ч.\");\n",
    "    }\n",
    "}\n",
    "\n",
    "Animal myAnimal = new Animal();\n",
    "Dog myDog = new Dog();\n",
    "Cat myCat = new Cat();\n",
    "Rabbit myRabbit = new Rabbit();\n",
    "\n",
    "myAnimal.Run(10);\n",
    "myAnimal.Run(\"направо\");\n",
    "myAnimal.Run(1.5);\n",
    "\n",
    "myDog.Run(68);\n",
    "myDog.Run(\"налево\");\n",
    "myDog.Run(2.3);\n",
    "\n",
    "myCat.Run(48);\n",
    "myCat.Run(\"направо\");\n",
    "myCat.Run(0.8);\n",
    "\n",
    "myRabbit.Run(50);\n",
    "myRabbit.Run(\"прямо\");\n",
    "myRabbit.Run(1.4);"
   ]
  }
 ],
 "metadata": {
  "kernelspec": {
   "display_name": ".NET (C#)",
   "language": "C#",
   "name": ".net-csharp"
  },
  "language_info": {
   "name": "csharp"
  },
  "polyglot_notebook": {
   "kernelInfo": {
    "defaultKernelName": "csharp",
    "items": [
     {
      "aliases": [],
      "name": "csharp"
     }
    ]
   }
  }
 },
 "nbformat": 4,
 "nbformat_minor": 2
}
