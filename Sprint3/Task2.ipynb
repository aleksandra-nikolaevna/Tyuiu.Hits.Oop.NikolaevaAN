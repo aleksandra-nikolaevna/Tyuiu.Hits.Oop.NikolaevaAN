{
 "cells": [
  {
   "cell_type": "code",
   "execution_count": 14,
   "metadata": {
    "dotnet_interactive": {
     "language": "csharp"
    },
    "polyglot_notebook": {
     "kernelName": "csharp"
    },
    "vscode": {
     "languageId": "polyglot-notebook"
    }
   },
   "outputs": [
    {
     "name": "stdout",
     "output_type": "stream",
     "text": [
      "Собака бежит.\n",
      "Кошка бежит.\n",
      "Кролик бежит.\n"
     ]
    }
   ],
   "source": [
    "using System;\n",
    "using System.Collections.Generic;\n",
    "\n",
    "public class Animal\n",
    "{\n",
    "    public virtual void Run()\n",
    "    {\n",
    "        Console.WriteLine(\"Животное находится в движении.\");\n",
    "    }\n",
    "}\n",
    "\n",
    "public class Dog : Animal\n",
    "{\n",
    "    public override void Run()\n",
    "    {\n",
    "        Console.WriteLine(\"Собака бежит.\");\n",
    "    }\n",
    "}\n",
    "\n",
    "public class Cat : Animal\n",
    "{\n",
    "    public override void Run()\n",
    "    {\n",
    "        Console.WriteLine(\"Кошка бежит.\");\n",
    "    }\n",
    "}\n",
    "\n",
    "public class Rabbit : Animal\n",
    "{\n",
    "    public override void Run()\n",
    "    {\n",
    "        Console.WriteLine(\"Кролик бежит.\");\n",
    "    }\n",
    "}\n",
    "\n",
    "public class AnimalCollection<T> where T : Animal\n",
    "{\n",
    "    private List<T> animals = new List<T>();\n",
    "\n",
    "    public void Add(T animal)\n",
    "    {\n",
    "        animals.Add(animal);\n",
    "    }\n",
    "\n",
    "    public void Remove(T animal)\n",
    "    {\n",
    "        animals.Remove(animal);\n",
    "    }\n",
    "\n",
    "    public void Display()\n",
    "    {\n",
    "        foreach (var animal in animals)\n",
    "        {\n",
    "            animal.Run();\n",
    "        }\n",
    "    }\n",
    "}\n",
    "\n",
    "\n",
    "AnimalCollection<Animal> _animals = new AnimalCollection<Animal>();\n",
    "_animals.Add(new Dog());\n",
    "_animals.Add(new Cat());\n",
    "_animals.Add(new Rabbit());\n",
    "\n",
    "_animals.Display();"
   ]
  }
 ],
 "metadata": {
  "kernelspec": {
   "display_name": ".NET (C#)",
   "language": "C#",
   "name": ".net-csharp"
  },
  "language_info": {
   "name": "csharp"
  },
  "polyglot_notebook": {
   "kernelInfo": {
    "defaultKernelName": "csharp",
    "items": [
     {
      "aliases": [],
      "name": "csharp"
     }
    ]
   }
  }
 },
 "nbformat": 4,
 "nbformat_minor": 2
}
