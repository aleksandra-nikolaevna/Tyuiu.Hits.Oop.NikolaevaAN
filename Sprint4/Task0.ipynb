{
 "cells": [
  {
   "cell_type": "code",
   "execution_count": 5,
   "metadata": {
    "dotnet_interactive": {
     "language": "csharp"
    },
    "polyglot_notebook": {
     "kernelName": "csharp"
    },
    "vscode": {
     "languageId": "polyglot-notebook"
    }
   },
   "outputs": [
    {
     "name": "stdout",
     "output_type": "stream",
     "text": [
      "Собака Долматинец начала движение.\n",
      "Собака начала бежать.\n",
      "Собака разгоналась до 40 км/ч.\n",
      "Текущая скорость: 40 км/ч\n",
      "Кошка Британская начала движение.\n",
      "Кошка начала бежать.\n",
      "Кошка шипит!\n",
      "Кошка Британская остановилась.\n",
      "Кошка остановилась.\n",
      "Лошадь Мустанг начала движение.\n",
      "Лошадь начала бежать.\n",
      "Лошадь съела морковь.\n",
      "Лошадь Мустанг остановилась.\n",
      "Лошадь остановилась.\n"
     ]
    }
   ],
   "source": [
    "public interface IAnimal\n",
    "{\n",
    "    void Start();\n",
    "    void Stop();\n",
    "    int GetCurrentSpeed();\n",
    "}\n",
    "\n",
    "public abstract class Animal : IAnimal\n",
    "{\n",
    "    public string AnimalClass { get; set; }\n",
    "    public string Breed { get; set; }\n",
    "    protected int currentSpeed;\n",
    "\n",
    "    public virtual void Start()\n",
    "    {\n",
    "        currentSpeed = 0;\n",
    "        Console.WriteLine($\"{AnimalClass} {Breed} начала движение.\");\n",
    "    }\n",
    "\n",
    "    public virtual void Stop()\n",
    "    {\n",
    "        currentSpeed = 0;\n",
    "        Console.WriteLine($\"{AnimalClass} {Breed} остановилась.\");\n",
    "    }\n",
    "\n",
    "    public virtual int GetCurrentSpeed()\n",
    "    {\n",
    "        return currentSpeed;\n",
    "    }\n",
    "}\n",
    "\n",
    "public class Dog : Animal\n",
    "{\n",
    "    public int NumberOfLegs { get; set; }\n",
    "\n",
    "    public override void Start()\n",
    "    {\n",
    "        base.Start();\n",
    "        Console.WriteLine(\"Собака начала бежать.\");\n",
    "    }\n",
    "\n",
    "    public override void Stop()\n",
    "    {\n",
    "        base.Stop();\n",
    "        Console.WriteLine(\"Собака остановилась.\");\n",
    "    }\n",
    "\n",
    "    public void Run(int amount)\n",
    "    {\n",
    "        currentSpeed += amount;\n",
    "        Console.WriteLine($\"Собака разгоналась до {currentSpeed} км/ч.\");\n",
    "    }\n",
    "}\n",
    "\n",
    "public class Cat : Animal\n",
    "{\n",
    "    public override void Start()\n",
    "    {\n",
    "        base.Start();\n",
    "        Console.WriteLine(\"Кошка начала бежать.\");\n",
    "    }\n",
    "\n",
    "    public override void Stop()\n",
    "    {\n",
    "        base.Stop();\n",
    "        Console.WriteLine(\"Кошка остановилась.\");\n",
    "    }\n",
    "\n",
    "    public void Angry()\n",
    "    {\n",
    "        Console.WriteLine(\"Кошка шипит!\");\n",
    "    }\n",
    "}\n",
    "\n",
    "public class Horse : Animal\n",
    "{\n",
    "    public bool HasBaby { get; set; }\n",
    "\n",
    "    public override void Start()\n",
    "    {\n",
    "        base.Start();\n",
    "        Console.WriteLine(\"Лошадь начала бежать.\");\n",
    "    }\n",
    "\n",
    "    public override void Stop()\n",
    "    {\n",
    "        base.Stop();\n",
    "        Console.WriteLine(\"Лошадь остановилась.\");\n",
    "    }\n",
    "\n",
    "    public void Eat()\n",
    "    {\n",
    "        Console.WriteLine(\"Лошадь съела морковь.\");\n",
    "    }\n",
    "}\n",
    "\n",
    "IAnimal myDog = new Dog { AnimalClass = \"Собака\", Breed = \"Долматинец\", NumberOfLegs = 4 };\n",
    "myDog.Start();\n",
    "((Dog)myDog).Run(40);\n",
    "Console.WriteLine($\"Текущая скорость: {myDog.GetCurrentSpeed()} км/ч\");\n",
    "        \n",
    "IAnimal myCat = new Cat { AnimalClass = \"Кошка\", Breed = \"Британская\" };\n",
    "myCat.Start();\n",
    "((Cat)myCat).Angry();\n",
    "myCat.Stop();\n",
    "\n",
    "IAnimal myHorse = new Horse { AnimalClass = \"Лошадь\", Breed = \"Мустанг\", HasBaby = true };\n",
    "myHorse.Start();\n",
    "((Horse)myHorse).Eat();\n",
    "myHorse.Stop();"
   ]
  }
 ],
 "metadata": {
  "kernelspec": {
   "display_name": ".NET (C#)",
   "language": "C#",
   "name": ".net-csharp"
  },
  "language_info": {
   "name": "csharp"
  },
  "polyglot_notebook": {
   "kernelInfo": {
    "defaultKernelName": "csharp",
    "items": [
     {
      "aliases": [],
      "name": "csharp"
     }
    ]
   }
  }
 },
 "nbformat": 4,
 "nbformat_minor": 2
}
