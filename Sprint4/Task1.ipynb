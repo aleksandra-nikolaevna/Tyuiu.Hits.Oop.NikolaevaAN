{
 "cells": [
  {
   "cell_type": "code",
   "execution_count": 7,
   "metadata": {
    "dotnet_interactive": {
     "language": "csharp"
    },
    "polyglot_notebook": {
     "kernelName": "csharp"
    },
    "vscode": {
     "languageId": "polyglot-notebook"
    }
   },
   "outputs": [
    {
     "name": "stdout",
     "output_type": "stream",
     "text": [
      "Собака Долматинец начала движение.\n",
      "Текущая скорость: 0 км/ч\n",
      "Кошка Британская начала движение.\n",
      "Кошка шипит!\n",
      "Кошка Британская остановилась.\n",
      "Лошадь Мустанг начала движение.\n",
      "Лошадь съела морковь.\n",
      "Лошадь Мустанг остановилась.\n"
     ]
    }
   ],
   "source": [
    "public interface IAnimal\n",
    "{\n",
    "    void Start();\n",
    "    void Stop();\n",
    "    int Speed();\n",
    "}\n",
    "\n",
    "public interface IAngryAnimal : IAnimal\n",
    "{\n",
    "    void Angry();\n",
    "}\n",
    "\n",
    "public interface IEatAnimal : IAnimal\n",
    "{\n",
    "    void Eat();\n",
    "}\n",
    "\n",
    "public abstract class Animal : IAnimal\n",
    "{\n",
    "    public string AnimalClass { get; set; }\n",
    "    public string Breed { get; set; }\n",
    "    protected int currentSpeed;\n",
    "\n",
    "    public abstract void Start();  // Оставляем абстрактным\n",
    "    public abstract void Stop();   // Оставляем абстрактным\n",
    "\n",
    "    public virtual int Speed()\n",
    "    {\n",
    "        return currentSpeed;\n",
    "    }\n",
    "}\n",
    "\n",
    "public class Dog : Animal\n",
    "{\n",
    "    public override void Start()\n",
    "    {\n",
    "        currentSpeed = 0;\n",
    "        Console.WriteLine($\"{AnimalClass} {Breed} начала движение.\");\n",
    "    }\n",
    "\n",
    "    public override void Stop()\n",
    "    {\n",
    "        currentSpeed = 0;\n",
    "        Console.WriteLine($\"{AnimalClass} {Breed} остановилась.\");\n",
    "    }\n",
    "}\n",
    "\n",
    "public class Cat : Animal, IAngryAnimal\n",
    "{\n",
    "    public override void Start()\n",
    "    {\n",
    "        currentSpeed = 0;\n",
    "        Console.WriteLine($\"{AnimalClass} {Breed} начала движение.\");\n",
    "    }\n",
    "\n",
    "    public override void Stop()\n",
    "    {\n",
    "        currentSpeed = 0;\n",
    "        Console.WriteLine($\"{AnimalClass} {Breed} остановилась.\");\n",
    "    }\n",
    "\n",
    "    public void Angry()\n",
    "    {\n",
    "        Console.WriteLine(\"Кошка шипит!\");\n",
    "    }\n",
    "}\n",
    "\n",
    "public class Horse : Animal, IEatAnimal\n",
    "{\n",
    "    public override void Start()\n",
    "    {\n",
    "        currentSpeed = 0;\n",
    "        Console.WriteLine($\"{AnimalClass} {Breed} начала движение.\");\n",
    "    }\n",
    "\n",
    "    public override void Stop()\n",
    "    {\n",
    "        currentSpeed = 0;\n",
    "        Console.WriteLine($\"{AnimalClass} {Breed} остановилась.\");\n",
    "    }\n",
    "\n",
    "    public void Eat()\n",
    "    {\n",
    "        Console.WriteLine(\"Лошадь съела морковь.\");\n",
    "    }\n",
    "}\n",
    "\n",
    "IAnimal myDog = new Dog { AnimalClass = \"Собака\", Breed = \"Долматинец\" };\n",
    "myDog.Start();\n",
    "Console.WriteLine($\"Текущая скорость: {myDog.Speed()} км/ч\");\n",
    "\n",
    "IAnimal myCat = new Cat { AnimalClass = \"Кошка\", Breed = \"Британская\" };\n",
    "myCat.Start();\n",
    "((Cat)myCat).Angry();\n",
    "myCat.Stop();\n",
    "\n",
    "IAnimal myHorse = new Horse { AnimalClass = \"Лошадь\", Breed = \"Мустанг\" };\n",
    "myHorse.Start();\n",
    "((Horse)myHorse).Eat();\n",
    "myHorse.Stop();"
   ]
  }
 ],
 "metadata": {
  "kernelspec": {
   "display_name": ".NET (C#)",
   "language": "C#",
   "name": ".net-csharp"
  },
  "language_info": {
   "name": "csharp"
  },
  "polyglot_notebook": {
   "kernelInfo": {
    "defaultKernelName": "csharp",
    "items": [
     {
      "aliases": [],
      "name": "csharp"
     }
    ]
   }
  }
 },
 "nbformat": 4,
 "nbformat_minor": 2
}
