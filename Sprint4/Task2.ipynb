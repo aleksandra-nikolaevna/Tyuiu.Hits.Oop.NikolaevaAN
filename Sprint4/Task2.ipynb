{
 "cells": [
  {
   "cell_type": "code",
   "execution_count": 2,
   "metadata": {
    "dotnet_interactive": {
     "language": "csharp"
    },
    "polyglot_notebook": {
     "kernelName": "csharp"
    },
    "vscode": {
     "languageId": "polyglot-notebook"
    }
   },
   "outputs": [
    {
     "name": "stdout",
     "output_type": "stream",
     "text": [
      "Собака начала бежать.\n",
      "Максимальная скорость этого животного 68 км/ч.\n",
      "Собака остановилась.\n",
      "Кошка начала бежать.\n",
      "Максимальная скорость этого животного 48 км/ч.\n",
      "Кошка остановилась.\n",
      "Лошадь начала бежать.\n",
      "Максимальная скорость этого животного 87 км/ч.\n",
      "Лошадь остановилась.\n"
     ]
    }
   ],
   "source": [
    "public interface IAnimal\n",
    "{\n",
    "    void Start();\n",
    "    void Stop();\n",
    "    int GetMaxSpeed();\n",
    "}\n",
    "\n",
    "public class Dog : IAnimal\n",
    "{\n",
    "    public void Start()\n",
    "    {\n",
    "        Console.WriteLine(\"Собака начала бежать.\");\n",
    "    }\n",
    "\n",
    "    public void Stop()\n",
    "    {\n",
    "        Console.WriteLine(\"Собака остановилась.\");\n",
    "    }\n",
    "\n",
    "    public int GetMaxSpeed()\n",
    "    {\n",
    "        return 68;\n",
    "    }\n",
    "}\n",
    "\n",
    "public class Cat : IAnimal\n",
    "{\n",
    "    public void Start()\n",
    "    {\n",
    "        Console.WriteLine(\"Кошка начала бежать.\");\n",
    "    }\n",
    "\n",
    "    public void Stop()\n",
    "    {\n",
    "        Console.WriteLine(\"Кошка остановилась.\");\n",
    "    }\n",
    "\n",
    "    public int GetMaxSpeed()\n",
    "    {\n",
    "        return 48;\n",
    "    }\n",
    "}\n",
    "\n",
    "public class Horse : IAnimal\n",
    "{\n",
    "    public void Start()\n",
    "    {\n",
    "        Console.WriteLine(\"Лошадь начала бежать.\");\n",
    "    }\n",
    "\n",
    "    public void Stop()\n",
    "    {\n",
    "        Console.WriteLine(\"Лошадь остановилась.\");\n",
    "    }\n",
    "\n",
    "    public int GetMaxSpeed()\n",
    "    {\n",
    "        return 87;\n",
    "    }\n",
    "}\n",
    "\n",
    "public class AnimalLooking\n",
    "{\n",
    "    private readonly IAnimal _animal;\n",
    "\n",
    "    public AnimalLooking(IAnimal animal)\n",
    "    {\n",
    "        _animal = animal; \n",
    "    }\n",
    "\n",
    "    public void AnimalLook()\n",
    "    {\n",
    "        _animal.Start();\n",
    "        Console.WriteLine($\"Максимальная скорость этого животного {_animal.GetMaxSpeed()} км/ч.\");\n",
    "        _animal.Stop();\n",
    "    }\n",
    "}\n",
    "\n",
    "IAnimal myDog = new Dog();\n",
    "AnimalLooking dogLooking = new AnimalLooking(myDog);\n",
    "dogLooking.AnimalLook();\n",
    "\n",
    "IAnimal myCat = new Cat();\n",
    "AnimalLooking catLooking = new AnimalLooking(myCat);\n",
    "catLooking.AnimalLook();\n",
    "\n",
    "IAnimal myHorse = new Horse();\n",
    "AnimalLooking horseLooking = new AnimalLooking(myHorse);\n",
    "horseLooking.AnimalLook();"
   ]
  }
 ],
 "metadata": {
  "kernelspec": {
   "display_name": ".NET (C#)",
   "language": "C#",
   "name": ".net-csharp"
  },
  "language_info": {
   "name": "csharp"
  },
  "polyglot_notebook": {
   "kernelInfo": {
    "defaultKernelName": "csharp",
    "items": [
     {
      "aliases": [],
      "name": "csharp"
     }
    ]
   }
  }
 },
 "nbformat": 4,
 "nbformat_minor": 2
}
